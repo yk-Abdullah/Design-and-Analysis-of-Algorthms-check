{
 "cells": [
  {
   "cell_type": "code",
   "execution_count": 1,
   "id": "947c6706",
   "metadata": {},
   "outputs": [
    {
     "name": "stdout",
     "output_type": "stream",
     "text": [
      "4\n",
      "10 30 40 20\n",
      "30\n"
     ]
    }
   ],
   "source": [
    "#Q!\n",
    "def min_cost_to_reach(N, heights):\n",
    "    dp = [0] * N\n",
    "    dp[0] = 0\n",
    "    \n",
    "    for i in range(1, N):\n",
    "        cost_1 = dp[i - 1] + abs(heights[i] - heights[i - 1])\n",
    "        if i > 1:\n",
    "            cost_2 = dp[i - 2] + abs(heights[i] - heights[i - 2])\n",
    "        else:\n",
    "            cost_2 = float('inf')\n",
    "        \n",
    "        dp[i] = min(cost_1, cost_2)\n",
    "    \n",
    "    return dp[N - 1]\n",
    "\n",
    "# Input\n",
    "N = int(input())\n",
    "heights = list(map(int, input().split()))\n",
    "\n",
    "# Output\n",
    "print(min_cost_to_reach(N, heights))"
   ]
  },
  {
   "cell_type": "code",
   "execution_count": 2,
   "id": "e324d42a",
   "metadata": {},
   "outputs": [
    {
     "name": "stdout",
     "output_type": "stream",
     "text": [
      "2\n",
      "10 10\n",
      "0\n"
     ]
    }
   ],
   "source": [
    "def min_cost_to_reach(N, heights):\n",
    "    dp = [0] * N\n",
    "    dp[0] = 0\n",
    "    \n",
    "    for i in range(1, N):\n",
    "        cost_1 = dp[i - 1] + abs(heights[i] - heights[i - 1])\n",
    "        if i > 1:\n",
    "            cost_2 = dp[i - 2] + abs(heights[i] - heights[i - 2])\n",
    "        else:\n",
    "            cost_2 = float('inf')\n",
    "        \n",
    "        dp[i] = min(cost_1, cost_2)\n",
    "    \n",
    "    return dp[N - 1]\n",
    "\n",
    "# Input\n",
    "N = int(input())\n",
    "heights = list(map(int, input().split()))\n",
    "\n",
    "# Output\n",
    "print(min_cost_to_reach(N, heights))"
   ]
  },
  {
   "cell_type": "code",
   "execution_count": 3,
   "id": "b0c1c31c",
   "metadata": {},
   "outputs": [
    {
     "name": "stdout",
     "output_type": "stream",
     "text": [
      "6\n",
      "30 10 60 10 60 50\n",
      "40\n"
     ]
    }
   ],
   "source": [
    "def min_cost_to_reach(N, heights):\n",
    "    dp = [0] * N\n",
    "    dp[0] = 0\n",
    "    \n",
    "    for i in range(1, N):\n",
    "        cost_1 = dp[i - 1] + abs(heights[i] - heights[i - 1])\n",
    "        if i > 1:\n",
    "            cost_2 = dp[i - 2] + abs(heights[i] - heights[i - 2])\n",
    "        else:\n",
    "            cost_2 = float('inf')\n",
    "        \n",
    "        dp[i] = min(cost_1, cost_2)\n",
    "    \n",
    "    return dp[N - 1]\n",
    "\n",
    "# Input\n",
    "N = int(input())\n",
    "heights = list(map(int, input().split()))\n",
    "\n",
    "# Output\n",
    "print(min_cost_to_reach(N, heights))"
   ]
  },
  {
   "cell_type": "code",
   "execution_count": null,
   "id": "9453a87c",
   "metadata": {},
   "outputs": [],
   "source": [
    "#q2"
   ]
  },
  {
   "cell_type": "code",
   "execution_count": null,
   "id": "cfdc5517",
   "metadata": {},
   "outputs": [],
   "source": [
    "def min_cost(N, K, heights):\n",
    "    dp = [0] * N\n",
    "    dp[1] = abs(heights[1] - heights[0])\n",
    "    for i in range(2, N):\n",
    "        min_cost = float('inf')\n",
    "        for j in range(1, min(K, i) + 1):\n",
    "            min_cost = min(min_cost, dp[i - j] + abs(heights[i] - heights[i - j]))\n",
    "        dp[i] = min_cost\n",
    "    return dp[N - 1]\n",
    "\n",
    "# taking input\n",
    "N, K = map(int, input().split())\n",
    "heights = list(map(int, input().split()))\n",
    "\n",
    "print(min_cost(N, K, heights))"
   ]
  },
  {
   "cell_type": "code",
   "execution_count": null,
   "id": "461938be",
   "metadata": {},
   "outputs": [],
   "source": [
    "def min_cost(N, K, heights):\n",
    "    dp = [0] * N\n",
    "    dp[1] = abs(heights[1] - heights[0])\n",
    "    for i in range(2, N):\n",
    "        min_cost = float('inf')\n",
    "        for j in range(1, min(K, i) + 1):\n",
    "            min_cost = min(min_cost, dp[i - j] + abs(heights[i] - heights[i - j]))\n",
    "        dp[i] = min_cost\n",
    "    return dp[N - 1]\n",
    "\n",
    "# taking input\n",
    "N, K = map(int, input().split())\n",
    "heights = list(map(int, input().split()))\n",
    "\n",
    "print(min_cost(N, K, heights))"
   ]
  },
  {
   "cell_type": "code",
   "execution_count": null,
   "id": "81f8735f",
   "metadata": {},
   "outputs": [],
   "source": [
    "def min_cost(N, K, heights):\n",
    "    dp = [0] * N\n",
    "    dp[1] = abs(heights[1] - heights[0])\n",
    "    for i in range(2, N):\n",
    "        min_cost = float('inf')\n",
    "        for j in range(1, min(K, i) + 1):\n",
    "            min_cost = min(min_cost, dp[i - j] + abs(heights[i] - heights[i - j]))\n",
    "        dp[i] = min_cost\n",
    "    return dp[N - 1]\n",
    "\n",
    "# taking input\n",
    "N, K = map(int, input().split())\n",
    "heights = list(map(int, input().split()))\n",
    "\n",
    "print(min_cost(N, K, heights))"
   ]
  },
  {
   "cell_type": "code",
   "execution_count": null,
   "id": "409f1f4f",
   "metadata": {},
   "outputs": [],
   "source": [
    "def min_cost(N, K, heights):\n",
    "    dp = [0] * N\n",
    "    dp[1] = abs(heights[1] - heights[0])\n",
    "    for i in range(2, N):\n",
    "        min_cost = float('inf')\n",
    "        for j in range(1, min(K, i) + 1):\n",
    "            min_cost = min(min_cost, dp[i - j] + abs(heights[i] - heights[i - j]))\n",
    "        dp[i] = min_cost\n",
    "    return dp[N - 1]\n",
    "\n",
    "# taking input\n",
    "N, K = map(int, input().split())\n",
    "heights = list(map(int, input().split()))\n",
    "\n",
    "print(min_cost(N, K, heights))"
   ]
  },
  {
   "cell_type": "code",
   "execution_count": null,
   "id": "30b960ff",
   "metadata": {},
   "outputs": [],
   "source": [
    "#Q3"
   ]
  },
  {
   "cell_type": "code",
   "execution_count": null,
   "id": "4edec689",
   "metadata": {},
   "outputs": [],
   "source": [
    "N = int(input())\n",
    "activities = [list(map(int, input().split())) for _ in range(N)]\n",
    "\n",
    "dp = [[0] * 3 for _ in range(N + 1)]\n",
    "\n",
    "for i in range(1, N + 1):\n",
    "    for j in range(3):  \n",
    "        for k in range(3): \n",
    "            if j != k:  \n",
    "                dp[i][j] = max(dp[i][j], dp[i - 1][k] + activities[i - 1][j])\n",
    "\n",
    "print(max(dp[N]))"
   ]
  },
  {
   "cell_type": "code",
   "execution_count": null,
   "id": "b0d99525",
   "metadata": {},
   "outputs": [],
   "source": [
    "N = int(input())\n",
    "activities = [list(map(int, input().split())) for _ in range(N)]\n",
    "\n",
    "dp = [[0] * 3 for _ in range(N + 1)]\n",
    "\n",
    "for i in range(1, N + 1):\n",
    "    for j in range(3):  \n",
    "        for k in range(3): \n",
    "            if j != k:  \n",
    "                dp[i][j] = max(dp[i][j], dp[i - 1][k] + activities[i - 1][j])\n",
    "\n",
    "print(max(dp[N]))"
   ]
  },
  {
   "cell_type": "code",
   "execution_count": null,
   "id": "24b3e5c4",
   "metadata": {},
   "outputs": [],
   "source": [
    "N = int(input())\n",
    "activities = [list(map(int, input().split())) for _ in range(N)]\n",
    "\n",
    "dp = [[0] * 3 for _ in range(N + 1)]\n",
    "\n",
    "for i in range(1, N + 1):\n",
    "    for j in range(3):  \n",
    "        for k in range(3): \n",
    "            if j != k:  \n",
    "                dp[i][j] = max(dp[i][j], dp[i - 1][k] + activities[i - 1][j])\n",
    "\n",
    "print(max(dp[N]))"
   ]
  },
  {
   "cell_type": "code",
   "execution_count": null,
   "id": "837e8918",
   "metadata": {},
   "outputs": [],
   "source": [
    "#Q4"
   ]
  },
  {
   "cell_type": "code",
   "execution_count": null,
   "id": "8e6d8708",
   "metadata": {},
   "outputs": [],
   "source": [
    "def knapsack(N, W, weights, values):\n",
    "    dp = [0] * (W + 1)\n",
    "    for i in range(N):\n",
    "        for w in range(W, weights[i] - 1, -1):\n",
    "            dp[w] = max(dp[w], dp[w - weights[i]] + values[i])\n",
    "    return dp[W]\n",
    "\n",
    "N, W = map(int, input().split())\n",
    "weights = []\n",
    "values = []\n",
    "for _ in range(N):\n",
    "    w, v = map(int, input().split())\n",
    "    weights.append(w)\n",
    "    values.append(v)\n",
    "\n",
    "print(knapsack(N, W, weights, values))"
   ]
  },
  {
   "cell_type": "code",
   "execution_count": null,
   "id": "25b294ef",
   "metadata": {},
   "outputs": [],
   "source": [
    "def knapsack(N, W, weights, values):\n",
    "    dp = [0] * (W + 1)\n",
    "    for i in range(N):\n",
    "        for w in range(W, weights[i] - 1, -1):\n",
    "            dp[w] = max(dp[w], dp[w - weights[i]] + values[i])\n",
    "    return dp[W]\n",
    "\n",
    "N, W = map(int, input().split())\n",
    "weights = []\n",
    "values = []\n",
    "for _ in range(N):\n",
    "    w, v = map(int, input().split())\n",
    "    weights.append(w)\n",
    "    values.append(v)\n",
    "\n",
    "print(knapsack(N, W, weights, values))"
   ]
  },
  {
   "cell_type": "code",
   "execution_count": null,
   "id": "94511403",
   "metadata": {},
   "outputs": [],
   "source": [
    "def knapsack(N, W, weights, values):\n",
    "    dp = [0] * (W + 1)\n",
    "    for i in range(N):\n",
    "        for w in range(W, weights[i] - 1, -1):\n",
    "            dp[w] = max(dp[w], dp[w - weights[i]] + values[i])\n",
    "    return dp[W]\n",
    "\n",
    "N, W = map(int, input().split())\n",
    "weights = []\n",
    "values = []\n",
    "for _ in range(N):\n",
    "    w, v = map(int, input().split())\n",
    "    weights.append(w)\n",
    "    values.append(v)\n",
    "\n",
    "print(knapsack(N, W, weights, values))"
   ]
  },
  {
   "cell_type": "code",
   "execution_count": null,
   "id": "e906ab30",
   "metadata": {},
   "outputs": [],
   "source": [
    "#Q5"
   ]
  },
  {
   "cell_type": "code",
   "execution_count": null,
   "id": "cacc8876",
   "metadata": {},
   "outputs": [],
   "source": [
    "def knapsack(N, W, weights, values):\n",
    "    dp = [0] * (W + 1)\n",
    "    for i in range(N):\n",
    "        for w in range(W, weights[i] - 1, -1):\n",
    "            dp[w] = max(dp[w], dp[w - weights[i]] + values[i])\n",
    "    return dp[W]\n",
    "\n",
    "N, W = map(int, input().split())\n",
    "weights = []\n",
    "values = []\n",
    "for _ in range(N):\n",
    "    w, v = map(int, input().split())\n",
    "    weights.append(w)\n",
    "    values.append(v)\n",
    "\n",
    "print(knapsack(N, W, weights, values))"
   ]
  },
  {
   "cell_type": "code",
   "execution_count": null,
   "id": "0ed4e07c",
   "metadata": {},
   "outputs": [],
   "source": [
    "def knapsack(N, W, weights, values):\n",
    "    dp = [0] * (W + 1)\n",
    "    for i in range(N):\n",
    "        for w in range(W, weights[i] - 1, -1):\n",
    "            dp[w] = max(dp[w], dp[w - weights[i]] + values[i])\n",
    "    return dp[W]\n",
    "\n",
    "N, W = map(int, input().split())\n",
    "weights = []\n",
    "values = []\n",
    "for _ in range(N):\n",
    "    w, v = map(int, input().split())\n",
    "    weights.append(w)\n",
    "    values.append(v)\n",
    "\n",
    "print(knapsack(N, W, weights, values))"
   ]
  },
  {
   "cell_type": "code",
   "execution_count": null,
   "id": "84f97a90",
   "metadata": {},
   "outputs": [],
   "source": [
    "#Q6"
   ]
  },
  {
   "cell_type": "code",
   "execution_count": null,
   "id": "d324597b",
   "metadata": {},
   "outputs": [],
   "source": [
    "import sys\n",
    "sys.setrecursionlimit(10**6)\n",
    "\n",
    "def dfs(v):\n",
    "    if dp[v] != -1:\n",
    "        return dp[v]\n",
    "    \n",
    "    max_len = 0\n",
    "    for u in graph[v]:\n",
    "        max_len = max(max_len, dfs(u) + 1)\n",
    "    \n",
    "    dp[v] = max_len\n",
    "    return max_len\n",
    "\n",
    "N, M = map(int, input().split())\n",
    "\n",
    "graph = [[] for _ in range(N + 1)]\n",
    "for _ in range(M):\n",
    "    x, y = map(int, input().split())\n",
    "    graph[x].append(y)\n",
    "\n",
    "dp = [-1] * (N + 1)\n",
    "max_path_length = 0\n",
    "for i in range(1, N + 1):\n",
    "    max_path_length = max(max_path_length, dfs(i))\n",
    "\n",
    "print(max_path_length)"
   ]
  },
  {
   "cell_type": "code",
   "execution_count": null,
   "id": "d374490b",
   "metadata": {},
   "outputs": [],
   "source": [
    "import sys\n",
    "sys.setrecursionlimit(10**6)\n",
    "\n",
    "def dfs(v):\n",
    "    if dp[v] != -1:\n",
    "        return dp[v]\n",
    "    \n",
    "    max_len = 0\n",
    "    for u in graph[v]:\n",
    "        max_len = max(max_len, dfs(u) + 1)\n",
    "    \n",
    "    dp[v] = max_len\n",
    "    return max_len\n",
    "\n",
    "N, M = map(int, input().split())\n",
    "\n",
    "graph = [[] for _ in range(N + 1)]\n",
    "for _ in range(M):\n",
    "    x, y = map(int, input().split())\n",
    "    graph[x].append(y)\n",
    "\n",
    "dp = [-1] * (N + 1)\n",
    "max_path_length = 0\n",
    "for i in range(1, N + 1):\n",
    "    max_path_length = max(max_path_length, dfs(i))\n",
    "\n",
    "print(max_path_length)"
   ]
  },
  {
   "cell_type": "code",
   "execution_count": null,
   "id": "bb646635",
   "metadata": {},
   "outputs": [],
   "source": [
    "import sys\n",
    "sys.setrecursionlimit(10**6)\n",
    "\n",
    "def dfs(v):\n",
    "    if dp[v] != -1:\n",
    "        return dp[v]\n",
    "    \n",
    "    max_len = 0\n",
    "    for u in graph[v]:\n",
    "        max_len = max(max_len, dfs(u) + 1)\n",
    "    \n",
    "    dp[v] = max_len\n",
    "    return max_len\n",
    "\n",
    "N, M = map(int, input().split())\n",
    "\n",
    "graph = [[] for _ in range(N + 1)]\n",
    "for _ in range(M):\n",
    "    x, y = map(int, input().split())\n",
    "    graph[x].append(y)\n",
    "\n",
    "dp = [-1] * (N + 1)\n",
    "max_path_length = 0\n",
    "for i in range(1, N + 1):\n",
    "    max_path_length = max(max_path_length, dfs(i))\n",
    "\n",
    "print(max_path_length)"
   ]
  },
  {
   "cell_type": "code",
   "execution_count": null,
   "id": "1843b261",
   "metadata": {},
   "outputs": [],
   "source": []
  },
  {
   "cell_type": "code",
   "execution_count": null,
   "id": "e7c5a62d",
   "metadata": {},
   "outputs": [],
   "source": []
  }
 ],
 "metadata": {
  "kernelspec": {
   "display_name": "Python 3 (ipykernel)",
   "language": "python",
   "name": "python3"
  },
  "language_info": {
   "codemirror_mode": {
    "name": "ipython",
    "version": 3
   },
   "file_extension": ".py",
   "mimetype": "text/x-python",
   "name": "python",
   "nbconvert_exporter": "python",
   "pygments_lexer": "ipython3",
   "version": "3.9.13"
  }
 },
 "nbformat": 4,
 "nbformat_minor": 5
}
